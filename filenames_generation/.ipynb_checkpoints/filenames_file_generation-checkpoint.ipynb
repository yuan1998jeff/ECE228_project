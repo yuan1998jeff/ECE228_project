{
 "cells": [
  {
   "cell_type": "code",
   "execution_count": 14,
   "metadata": {},
   "outputs": [],
   "source": [
    "import os"
   ]
  },
  {
   "cell_type": "code",
   "execution_count": 13,
   "metadata": {},
   "outputs": [],
   "source": [
    "#### create filename files \n",
    "\n",
    "# trainig data and gt filenames\n",
    "train_data_path = '../../nyuv2-python-toolkit/NYUv2/image/train/'\n",
    "test_data_path = '../../nyuv2-python-toolkit/NYUv2/image/test/'\n",
    "data_files = os.listdir(train_data_path)\n",
    "data_files_test = os.listdir(test_data_path)\n",
    "\n",
    "my_file = open(\"nyudepthv2_train_files_with_gt.txt\", \"w\")\n",
    "for idx in range(len(data_files)):\n",
    "    oneline = '/image/train/'+data_files[idx]+' '+'/depth/train/'+data_files[idx]+' 518.8579\\n'\n",
    "    my_file.write(oneline)\n",
    "#     print(oneline)\n",
    "my_file.close()\n",
    "\n",
    "my_file = open(\"nyudepthv2_test_files_with_gt.txt\", \"w\")\n",
    "for idx in range(len(data_files)):\n",
    "    oneline = '/image/test/'+data_files_test[idx]+' '+'/depth/test/'+data_files_test[idx]+' 518.8579\\n'\n",
    "    my_file.write(oneline)\n",
    "#     print(oneline)\n",
    "my_file.close()"
   ]
  },
  {
   "cell_type": "code",
   "execution_count": null,
   "metadata": {},
   "outputs": [],
   "source": []
  }
 ],
 "metadata": {
  "kernelspec": {
   "display_name": "ml-latest",
   "language": "python",
   "name": "ml-latest"
  },
  "language_info": {
   "codemirror_mode": {
    "name": "ipython",
    "version": 3
   },
   "file_extension": ".py",
   "mimetype": "text/x-python",
   "name": "python",
   "nbconvert_exporter": "python",
   "pygments_lexer": "ipython3",
   "version": "3.8.6"
  }
 },
 "nbformat": 4,
 "nbformat_minor": 4
}
